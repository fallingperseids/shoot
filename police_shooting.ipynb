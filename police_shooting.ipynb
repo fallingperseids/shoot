{
 "cells": [
  {
   "cell_type": "markdown",
   "id": "7caaf94d-b575-4da4-a095-cee0c05667c7",
   "metadata": {},
   "source": [
    "# US Police Shootings"
   ]
  },
  {
   "cell_type": "markdown",
   "id": "c8a13df6-cd5e-43a1-96a6-e1d707d3582e",
   "metadata": {},
   "source": [
    "## Задание \n",
    "\n",
    "Проанализировать выбранную базу данных\n",
    "- Ссылка на датасет: https://www.kaggle.com/datasets/ahsen1330/us-police-shootings"
   ]
  },
  {
   "cell_type": "markdown",
   "id": "6f9d23ad-6add-4686-a4d0-2d11bb8a77e3",
   "metadata": {},
   "source": [
    "- Работу выполнила: Гусарова Александра\n",
    "- Граппа: ММР 211"
   ]
  },
  {
   "cell_type": "markdown",
   "id": "c1f62e73-9099-44b5-874d-c7b0fcc1b373",
   "metadata": {},
   "source": [
    "# Загрузка датасета и начальные настройки"
   ]
  },
  {
   "cell_type": "code",
   "execution_count": 2,
   "id": "7c38a839-e933-4343-85f1-64fa01dde705",
   "metadata": {},
   "outputs": [
    {
     "data": {
      "text/html": [
       "        <script type=\"text/javascript\">\n",
       "        window.PlotlyConfig = {MathJaxConfig: 'local'};\n",
       "        if (window.MathJax) {MathJax.Hub.Config({SVG: {font: \"STIX-Web\"}});}\n",
       "        if (typeof require !== 'undefined') {\n",
       "        require.undef(\"plotly\");\n",
       "        requirejs.config({\n",
       "            paths: {\n",
       "                'plotly': ['https://cdn.plot.ly/plotly-2.9.0.min']\n",
       "            }\n",
       "        });\n",
       "        require(['plotly'], function(Plotly) {\n",
       "            window._Plotly = Plotly;\n",
       "        });\n",
       "        }\n",
       "        </script>\n",
       "        "
      ]
     },
     "metadata": {},
     "output_type": "display_data"
    }
   ],
   "source": [
    "#импортируем необходимые библиотеки\n",
    "import numpy as np\n",
    "import pandas as pd\n",
    "import matplotlib.pyplot as plt\n",
    "import seaborn as sns\n",
    "from sklearn.model_selection import train_test_split\n",
    "from sklearn.ensemble import RandomForestClassifier\n",
    "from sklearn.metrics import accuracy_score\n",
    "import plotly\n",
    "plotly.offline.init_notebook_mode(connected=True)\n",
    "import plotly.graph_objs as go\n",
    "\n",
    "import plotly.figure_factory as ff\n",
    "import scipy.stats as stats\n",
    "import scipy.stats"
   ]
  },
  {
   "cell_type": "code",
   "execution_count": 3,
   "id": "a3762b1d-49f2-445d-9e6e-39b353d30c8a",
   "metadata": {},
   "outputs": [],
   "source": [
    "shootings= pd.read_excel('shootings.xlsx')"
   ]
  },
  {
   "cell_type": "code",
   "execution_count": 4,
   "id": "61014527-3320-471f-991a-448ca9a1b1a0",
   "metadata": {},
   "outputs": [
    {
     "data": {
      "text/html": [
       "<div>\n",
       "<style scoped>\n",
       "    .dataframe tbody tr th:only-of-type {\n",
       "        vertical-align: middle;\n",
       "    }\n",
       "\n",
       "    .dataframe tbody tr th {\n",
       "        vertical-align: top;\n",
       "    }\n",
       "\n",
       "    .dataframe thead th {\n",
       "        text-align: right;\n",
       "    }\n",
       "</style>\n",
       "<table border=\"1\" class=\"dataframe\">\n",
       "  <thead>\n",
       "    <tr style=\"text-align: right;\">\n",
       "      <th></th>\n",
       "      <th>id</th>\n",
       "      <th>name</th>\n",
       "      <th>date</th>\n",
       "      <th>manner_of_death</th>\n",
       "      <th>armed</th>\n",
       "      <th>age</th>\n",
       "      <th>gender</th>\n",
       "      <th>race</th>\n",
       "      <th>city</th>\n",
       "      <th>state</th>\n",
       "      <th>signs_of_mental_illness</th>\n",
       "      <th>threat_level</th>\n",
       "      <th>flee</th>\n",
       "      <th>body_camera</th>\n",
       "      <th>arms_category</th>\n",
       "    </tr>\n",
       "  </thead>\n",
       "  <tbody>\n",
       "    <tr>\n",
       "      <th>0</th>\n",
       "      <td>3</td>\n",
       "      <td>Tim Elliot</td>\n",
       "      <td>2015-01-02</td>\n",
       "      <td>shot</td>\n",
       "      <td>gun</td>\n",
       "      <td>53.0</td>\n",
       "      <td>M</td>\n",
       "      <td>Asian</td>\n",
       "      <td>Shelton</td>\n",
       "      <td>WA</td>\n",
       "      <td>True</td>\n",
       "      <td>attack</td>\n",
       "      <td>Not fleeing</td>\n",
       "      <td>False</td>\n",
       "      <td>Guns</td>\n",
       "    </tr>\n",
       "    <tr>\n",
       "      <th>1</th>\n",
       "      <td>4</td>\n",
       "      <td>Lewis Lee Lembke</td>\n",
       "      <td>2015-01-02</td>\n",
       "      <td>shot</td>\n",
       "      <td>gun</td>\n",
       "      <td>47.0</td>\n",
       "      <td>M</td>\n",
       "      <td>White</td>\n",
       "      <td>Aloha</td>\n",
       "      <td>OR</td>\n",
       "      <td>False</td>\n",
       "      <td>attack</td>\n",
       "      <td>Not fleeing</td>\n",
       "      <td>False</td>\n",
       "      <td>Guns</td>\n",
       "    </tr>\n",
       "    <tr>\n",
       "      <th>2</th>\n",
       "      <td>5</td>\n",
       "      <td>John Paul Quintero</td>\n",
       "      <td>2015-01-03</td>\n",
       "      <td>shot and Tasered</td>\n",
       "      <td>unarmed</td>\n",
       "      <td>23.0</td>\n",
       "      <td>M</td>\n",
       "      <td>Hispanic</td>\n",
       "      <td>Wichita</td>\n",
       "      <td>KS</td>\n",
       "      <td>False</td>\n",
       "      <td>other</td>\n",
       "      <td>Not fleeing</td>\n",
       "      <td>False</td>\n",
       "      <td>Unarmed</td>\n",
       "    </tr>\n",
       "    <tr>\n",
       "      <th>3</th>\n",
       "      <td>8</td>\n",
       "      <td>Matthew Hoffman</td>\n",
       "      <td>2015-01-04</td>\n",
       "      <td>shot</td>\n",
       "      <td>toy weapon</td>\n",
       "      <td>32.0</td>\n",
       "      <td>M</td>\n",
       "      <td>White</td>\n",
       "      <td>San Francisco</td>\n",
       "      <td>CA</td>\n",
       "      <td>True</td>\n",
       "      <td>attack</td>\n",
       "      <td>Not fleeing</td>\n",
       "      <td>False</td>\n",
       "      <td>Other unusual objects</td>\n",
       "    </tr>\n",
       "    <tr>\n",
       "      <th>4</th>\n",
       "      <td>9</td>\n",
       "      <td>Michael Rodriguez</td>\n",
       "      <td>2015-01-04</td>\n",
       "      <td>shot</td>\n",
       "      <td>nail gun</td>\n",
       "      <td>39.0</td>\n",
       "      <td>M</td>\n",
       "      <td>Hispanic</td>\n",
       "      <td>Evans</td>\n",
       "      <td>CO</td>\n",
       "      <td>False</td>\n",
       "      <td>attack</td>\n",
       "      <td>Not fleeing</td>\n",
       "      <td>False</td>\n",
       "      <td>Piercing objects</td>\n",
       "    </tr>\n",
       "    <tr>\n",
       "      <th>5</th>\n",
       "      <td>11</td>\n",
       "      <td>Kenneth Joe Brown</td>\n",
       "      <td>2015-01-04</td>\n",
       "      <td>shot</td>\n",
       "      <td>gun</td>\n",
       "      <td>18.0</td>\n",
       "      <td>M</td>\n",
       "      <td>White</td>\n",
       "      <td>Guthrie</td>\n",
       "      <td>OK</td>\n",
       "      <td>False</td>\n",
       "      <td>attack</td>\n",
       "      <td>Not fleeing</td>\n",
       "      <td>False</td>\n",
       "      <td>Guns</td>\n",
       "    </tr>\n",
       "    <tr>\n",
       "      <th>6</th>\n",
       "      <td>13</td>\n",
       "      <td>Kenneth Arnold Buck</td>\n",
       "      <td>2015-01-05</td>\n",
       "      <td>shot</td>\n",
       "      <td>gun</td>\n",
       "      <td>22.0</td>\n",
       "      <td>M</td>\n",
       "      <td>Hispanic</td>\n",
       "      <td>Chandler</td>\n",
       "      <td>AZ</td>\n",
       "      <td>False</td>\n",
       "      <td>attack</td>\n",
       "      <td>Car</td>\n",
       "      <td>False</td>\n",
       "      <td>Guns</td>\n",
       "    </tr>\n",
       "    <tr>\n",
       "      <th>7</th>\n",
       "      <td>15</td>\n",
       "      <td>Brock Nichols</td>\n",
       "      <td>2015-01-06</td>\n",
       "      <td>shot</td>\n",
       "      <td>gun</td>\n",
       "      <td>35.0</td>\n",
       "      <td>M</td>\n",
       "      <td>White</td>\n",
       "      <td>Assaria</td>\n",
       "      <td>KS</td>\n",
       "      <td>False</td>\n",
       "      <td>attack</td>\n",
       "      <td>Not fleeing</td>\n",
       "      <td>False</td>\n",
       "      <td>Guns</td>\n",
       "    </tr>\n",
       "    <tr>\n",
       "      <th>8</th>\n",
       "      <td>16</td>\n",
       "      <td>Autumn Steele</td>\n",
       "      <td>2015-01-06</td>\n",
       "      <td>shot</td>\n",
       "      <td>unarmed</td>\n",
       "      <td>34.0</td>\n",
       "      <td>F</td>\n",
       "      <td>White</td>\n",
       "      <td>Burlington</td>\n",
       "      <td>IA</td>\n",
       "      <td>False</td>\n",
       "      <td>other</td>\n",
       "      <td>Not fleeing</td>\n",
       "      <td>True</td>\n",
       "      <td>Unarmed</td>\n",
       "    </tr>\n",
       "    <tr>\n",
       "      <th>9</th>\n",
       "      <td>17</td>\n",
       "      <td>Leslie Sapp III</td>\n",
       "      <td>2015-01-06</td>\n",
       "      <td>shot</td>\n",
       "      <td>toy weapon</td>\n",
       "      <td>47.0</td>\n",
       "      <td>M</td>\n",
       "      <td>Black</td>\n",
       "      <td>Knoxville</td>\n",
       "      <td>PA</td>\n",
       "      <td>False</td>\n",
       "      <td>attack</td>\n",
       "      <td>Not fleeing</td>\n",
       "      <td>False</td>\n",
       "      <td>Other unusual objects</td>\n",
       "    </tr>\n",
       "  </tbody>\n",
       "</table>\n",
       "</div>"
      ],
      "text/plain": [
       "   id                 name        date   manner_of_death       armed   age  \\\n",
       "0   3           Tim Elliot  2015-01-02              shot         gun  53.0   \n",
       "1   4     Lewis Lee Lembke  2015-01-02              shot         gun  47.0   \n",
       "2   5   John Paul Quintero  2015-01-03  shot and Tasered     unarmed  23.0   \n",
       "3   8      Matthew Hoffman  2015-01-04              shot  toy weapon  32.0   \n",
       "4   9    Michael Rodriguez  2015-01-04              shot    nail gun  39.0   \n",
       "5  11    Kenneth Joe Brown  2015-01-04              shot         gun  18.0   \n",
       "6  13  Kenneth Arnold Buck  2015-01-05              shot         gun  22.0   \n",
       "7  15        Brock Nichols  2015-01-06              shot         gun  35.0   \n",
       "8  16        Autumn Steele  2015-01-06              shot     unarmed  34.0   \n",
       "9  17      Leslie Sapp III  2015-01-06              shot  toy weapon  47.0   \n",
       "\n",
       "  gender      race           city state  signs_of_mental_illness threat_level  \\\n",
       "0      M     Asian        Shelton    WA                     True       attack   \n",
       "1      M     White          Aloha    OR                    False       attack   \n",
       "2      M  Hispanic        Wichita    KS                    False        other   \n",
       "3      M     White  San Francisco    CA                     True       attack   \n",
       "4      M  Hispanic          Evans    CO                    False       attack   \n",
       "5      M     White        Guthrie    OK                    False       attack   \n",
       "6      M  Hispanic       Chandler    AZ                    False       attack   \n",
       "7      M     White        Assaria    KS                    False       attack   \n",
       "8      F     White     Burlington    IA                    False        other   \n",
       "9      M     Black      Knoxville    PA                    False       attack   \n",
       "\n",
       "          flee  body_camera          arms_category  \n",
       "0  Not fleeing        False                   Guns  \n",
       "1  Not fleeing        False                   Guns  \n",
       "2  Not fleeing        False                Unarmed  \n",
       "3  Not fleeing        False  Other unusual objects  \n",
       "4  Not fleeing        False       Piercing objects  \n",
       "5  Not fleeing        False                   Guns  \n",
       "6          Car        False                   Guns  \n",
       "7  Not fleeing        False                   Guns  \n",
       "8  Not fleeing         True                Unarmed  \n",
       "9  Not fleeing        False  Other unusual objects  "
      ]
     },
     "execution_count": 4,
     "metadata": {},
     "output_type": "execute_result"
    }
   ],
   "source": [
    "shootings.head(10)"
   ]
  },
  {
   "cell_type": "code",
   "execution_count": 5,
   "id": "ce0f31a8-fea1-4aa0-b796-cdfdf7ff14a2",
   "metadata": {},
   "outputs": [
    {
     "data": {
      "text/plain": [
       "(4895, 15)"
      ]
     },
     "execution_count": 5,
     "metadata": {},
     "output_type": "execute_result"
    }
   ],
   "source": [
    "#размер датасета\n",
    "shootings.shape"
   ]
  },
  {
   "cell_type": "code",
   "execution_count": 6,
   "id": "f2b3d926-8c2c-40bb-b41b-f960d5695073",
   "metadata": {},
   "outputs": [
    {
     "data": {
      "text/plain": [
       "<bound method DataFrame.info of         id                name        date   manner_of_death       armed  \\\n",
       "0        3          Tim Elliot  2015-01-02              shot         gun   \n",
       "1        4    Lewis Lee Lembke  2015-01-02              shot         gun   \n",
       "2        5  John Paul Quintero  2015-01-03  shot and Tasered     unarmed   \n",
       "3        8     Matthew Hoffman  2015-01-04              shot  toy weapon   \n",
       "4        9   Michael Rodriguez  2015-01-04              shot    nail gun   \n",
       "...    ...                 ...         ...               ...         ...   \n",
       "4890  5916     Rayshard Brooks  2020-06-12              shot       Taser   \n",
       "4891  5925      Caine Van Pelt  2020-06-12              shot         gun   \n",
       "4892  5918        Hannah Fizer  2020-06-13              shot     unarmed   \n",
       "4893  5921      William Slyter  2020-06-13              shot         gun   \n",
       "4894  5924      Nicholas Hirsh  2020-06-15              shot         gun   \n",
       "\n",
       "       age gender      race           city state  signs_of_mental_illness  \\\n",
       "0     53.0      M     Asian        Shelton    WA                     True   \n",
       "1     47.0      M     White          Aloha    OR                    False   \n",
       "2     23.0      M  Hispanic        Wichita    KS                    False   \n",
       "3     32.0      M     White  San Francisco    CA                     True   \n",
       "4     39.0      M  Hispanic          Evans    CO                    False   \n",
       "...    ...    ...       ...            ...   ...                      ...   \n",
       "4890  27.0      M     Black        Atlanta    GA                    False   \n",
       "4891  23.0      M     Black    Crown Point    IN                    False   \n",
       "4892  25.0      F     White        Sedalia    MO                    False   \n",
       "4893  22.0      M     White    Kansas City    MO                    False   \n",
       "4894  31.0      M     White       Lawrence    KS                    False   \n",
       "\n",
       "     threat_level         flee  body_camera          arms_category  \n",
       "0          attack  Not fleeing        False                   Guns  \n",
       "1          attack  Not fleeing        False                   Guns  \n",
       "2           other  Not fleeing        False                Unarmed  \n",
       "3          attack  Not fleeing        False  Other unusual objects  \n",
       "4          attack  Not fleeing        False       Piercing objects  \n",
       "...           ...          ...          ...                    ...  \n",
       "4890       attack         Foot         True     Electrical devices  \n",
       "4891       attack          Car        False                   Guns  \n",
       "4892        other  Not fleeing        False                Unarmed  \n",
       "4893        other        Other        False                   Guns  \n",
       "4894       attack          Car        False                   Guns  \n",
       "\n",
       "[4895 rows x 15 columns]>"
      ]
     },
     "execution_count": 6,
     "metadata": {},
     "output_type": "execute_result"
    }
   ],
   "source": [
    "#информация о датасете\n",
    "shootings.info"
   ]
  },
  {
   "cell_type": "code",
   "execution_count": 7,
   "id": "f3b22ef1-8346-4dbc-b083-b85a66830b63",
   "metadata": {},
   "outputs": [
    {
     "data": {
      "text/plain": [
       "Index(['id', 'name', 'date', 'manner_of_death', 'armed', 'age', 'gender',\n",
       "       'race', 'city', 'state', 'signs_of_mental_illness', 'threat_level',\n",
       "       'flee', 'body_camera', 'arms_category'],\n",
       "      dtype='object')"
      ]
     },
     "execution_count": 7,
     "metadata": {},
     "output_type": "execute_result"
    }
   ],
   "source": [
    "shootings.columns"
   ]
  },
  {
   "cell_type": "code",
   "execution_count": 8,
   "id": "1b82816d-e920-4588-a4b5-4af8e14050e0",
   "metadata": {},
   "outputs": [
    {
     "data": {
      "text/html": [
       "<div>\n",
       "<style scoped>\n",
       "    .dataframe tbody tr th:only-of-type {\n",
       "        vertical-align: middle;\n",
       "    }\n",
       "\n",
       "    .dataframe tbody tr th {\n",
       "        vertical-align: top;\n",
       "    }\n",
       "\n",
       "    .dataframe thead th {\n",
       "        text-align: right;\n",
       "    }\n",
       "</style>\n",
       "<table border=\"1\" class=\"dataframe\">\n",
       "  <thead>\n",
       "    <tr style=\"text-align: right;\">\n",
       "      <th></th>\n",
       "      <th>Номер</th>\n",
       "      <th>Имя</th>\n",
       "      <th>Дата</th>\n",
       "      <th>Способ задержания</th>\n",
       "      <th>Вооружение</th>\n",
       "      <th>Возраст</th>\n",
       "      <th>Пол</th>\n",
       "      <th>Расса</th>\n",
       "      <th>Город</th>\n",
       "      <th>Штат</th>\n",
       "      <th>Ментальное здоровье</th>\n",
       "      <th>Уровень угрозы</th>\n",
       "      <th>Отступление</th>\n",
       "      <th>Нательная камера</th>\n",
       "      <th>Категория оружия</th>\n",
       "    </tr>\n",
       "  </thead>\n",
       "  <tbody>\n",
       "    <tr>\n",
       "      <th>0</th>\n",
       "      <td>3</td>\n",
       "      <td>Tim Elliot</td>\n",
       "      <td>2015-01-02</td>\n",
       "      <td>shot</td>\n",
       "      <td>gun</td>\n",
       "      <td>53.0</td>\n",
       "      <td>M</td>\n",
       "      <td>Asian</td>\n",
       "      <td>Shelton</td>\n",
       "      <td>WA</td>\n",
       "      <td>True</td>\n",
       "      <td>attack</td>\n",
       "      <td>Not fleeing</td>\n",
       "      <td>False</td>\n",
       "      <td>Guns</td>\n",
       "    </tr>\n",
       "    <tr>\n",
       "      <th>1</th>\n",
       "      <td>4</td>\n",
       "      <td>Lewis Lee Lembke</td>\n",
       "      <td>2015-01-02</td>\n",
       "      <td>shot</td>\n",
       "      <td>gun</td>\n",
       "      <td>47.0</td>\n",
       "      <td>M</td>\n",
       "      <td>White</td>\n",
       "      <td>Aloha</td>\n",
       "      <td>OR</td>\n",
       "      <td>False</td>\n",
       "      <td>attack</td>\n",
       "      <td>Not fleeing</td>\n",
       "      <td>False</td>\n",
       "      <td>Guns</td>\n",
       "    </tr>\n",
       "    <tr>\n",
       "      <th>2</th>\n",
       "      <td>5</td>\n",
       "      <td>John Paul Quintero</td>\n",
       "      <td>2015-01-03</td>\n",
       "      <td>shot and Tasered</td>\n",
       "      <td>unarmed</td>\n",
       "      <td>23.0</td>\n",
       "      <td>M</td>\n",
       "      <td>Hispanic</td>\n",
       "      <td>Wichita</td>\n",
       "      <td>KS</td>\n",
       "      <td>False</td>\n",
       "      <td>other</td>\n",
       "      <td>Not fleeing</td>\n",
       "      <td>False</td>\n",
       "      <td>Unarmed</td>\n",
       "    </tr>\n",
       "    <tr>\n",
       "      <th>3</th>\n",
       "      <td>8</td>\n",
       "      <td>Matthew Hoffman</td>\n",
       "      <td>2015-01-04</td>\n",
       "      <td>shot</td>\n",
       "      <td>toy weapon</td>\n",
       "      <td>32.0</td>\n",
       "      <td>M</td>\n",
       "      <td>White</td>\n",
       "      <td>San Francisco</td>\n",
       "      <td>CA</td>\n",
       "      <td>True</td>\n",
       "      <td>attack</td>\n",
       "      <td>Not fleeing</td>\n",
       "      <td>False</td>\n",
       "      <td>Other unusual objects</td>\n",
       "    </tr>\n",
       "    <tr>\n",
       "      <th>4</th>\n",
       "      <td>9</td>\n",
       "      <td>Michael Rodriguez</td>\n",
       "      <td>2015-01-04</td>\n",
       "      <td>shot</td>\n",
       "      <td>nail gun</td>\n",
       "      <td>39.0</td>\n",
       "      <td>M</td>\n",
       "      <td>Hispanic</td>\n",
       "      <td>Evans</td>\n",
       "      <td>CO</td>\n",
       "      <td>False</td>\n",
       "      <td>attack</td>\n",
       "      <td>Not fleeing</td>\n",
       "      <td>False</td>\n",
       "      <td>Piercing objects</td>\n",
       "    </tr>\n",
       "    <tr>\n",
       "      <th>...</th>\n",
       "      <td>...</td>\n",
       "      <td>...</td>\n",
       "      <td>...</td>\n",
       "      <td>...</td>\n",
       "      <td>...</td>\n",
       "      <td>...</td>\n",
       "      <td>...</td>\n",
       "      <td>...</td>\n",
       "      <td>...</td>\n",
       "      <td>...</td>\n",
       "      <td>...</td>\n",
       "      <td>...</td>\n",
       "      <td>...</td>\n",
       "      <td>...</td>\n",
       "      <td>...</td>\n",
       "    </tr>\n",
       "    <tr>\n",
       "      <th>4890</th>\n",
       "      <td>5916</td>\n",
       "      <td>Rayshard Brooks</td>\n",
       "      <td>2020-06-12</td>\n",
       "      <td>shot</td>\n",
       "      <td>Taser</td>\n",
       "      <td>27.0</td>\n",
       "      <td>M</td>\n",
       "      <td>Black</td>\n",
       "      <td>Atlanta</td>\n",
       "      <td>GA</td>\n",
       "      <td>False</td>\n",
       "      <td>attack</td>\n",
       "      <td>Foot</td>\n",
       "      <td>True</td>\n",
       "      <td>Electrical devices</td>\n",
       "    </tr>\n",
       "    <tr>\n",
       "      <th>4891</th>\n",
       "      <td>5925</td>\n",
       "      <td>Caine Van Pelt</td>\n",
       "      <td>2020-06-12</td>\n",
       "      <td>shot</td>\n",
       "      <td>gun</td>\n",
       "      <td>23.0</td>\n",
       "      <td>M</td>\n",
       "      <td>Black</td>\n",
       "      <td>Crown Point</td>\n",
       "      <td>IN</td>\n",
       "      <td>False</td>\n",
       "      <td>attack</td>\n",
       "      <td>Car</td>\n",
       "      <td>False</td>\n",
       "      <td>Guns</td>\n",
       "    </tr>\n",
       "    <tr>\n",
       "      <th>4892</th>\n",
       "      <td>5918</td>\n",
       "      <td>Hannah Fizer</td>\n",
       "      <td>2020-06-13</td>\n",
       "      <td>shot</td>\n",
       "      <td>unarmed</td>\n",
       "      <td>25.0</td>\n",
       "      <td>F</td>\n",
       "      <td>White</td>\n",
       "      <td>Sedalia</td>\n",
       "      <td>MO</td>\n",
       "      <td>False</td>\n",
       "      <td>other</td>\n",
       "      <td>Not fleeing</td>\n",
       "      <td>False</td>\n",
       "      <td>Unarmed</td>\n",
       "    </tr>\n",
       "    <tr>\n",
       "      <th>4893</th>\n",
       "      <td>5921</td>\n",
       "      <td>William Slyter</td>\n",
       "      <td>2020-06-13</td>\n",
       "      <td>shot</td>\n",
       "      <td>gun</td>\n",
       "      <td>22.0</td>\n",
       "      <td>M</td>\n",
       "      <td>White</td>\n",
       "      <td>Kansas City</td>\n",
       "      <td>MO</td>\n",
       "      <td>False</td>\n",
       "      <td>other</td>\n",
       "      <td>Other</td>\n",
       "      <td>False</td>\n",
       "      <td>Guns</td>\n",
       "    </tr>\n",
       "    <tr>\n",
       "      <th>4894</th>\n",
       "      <td>5924</td>\n",
       "      <td>Nicholas Hirsh</td>\n",
       "      <td>2020-06-15</td>\n",
       "      <td>shot</td>\n",
       "      <td>gun</td>\n",
       "      <td>31.0</td>\n",
       "      <td>M</td>\n",
       "      <td>White</td>\n",
       "      <td>Lawrence</td>\n",
       "      <td>KS</td>\n",
       "      <td>False</td>\n",
       "      <td>attack</td>\n",
       "      <td>Car</td>\n",
       "      <td>False</td>\n",
       "      <td>Guns</td>\n",
       "    </tr>\n",
       "  </tbody>\n",
       "</table>\n",
       "<p>4895 rows × 15 columns</p>\n",
       "</div>"
      ],
      "text/plain": [
       "      Номер                 Имя        Дата Способ задержания  Вооружение  \\\n",
       "0         3          Tim Elliot  2015-01-02              shot         gun   \n",
       "1         4    Lewis Lee Lembke  2015-01-02              shot         gun   \n",
       "2         5  John Paul Quintero  2015-01-03  shot and Tasered     unarmed   \n",
       "3         8     Matthew Hoffman  2015-01-04              shot  toy weapon   \n",
       "4         9   Michael Rodriguez  2015-01-04              shot    nail gun   \n",
       "...     ...                 ...         ...               ...         ...   \n",
       "4890   5916     Rayshard Brooks  2020-06-12              shot       Taser   \n",
       "4891   5925      Caine Van Pelt  2020-06-12              shot         gun   \n",
       "4892   5918        Hannah Fizer  2020-06-13              shot     unarmed   \n",
       "4893   5921      William Slyter  2020-06-13              shot         gun   \n",
       "4894   5924      Nicholas Hirsh  2020-06-15              shot         gun   \n",
       "\n",
       "      Возраст Пол     Расса          Город Штат  Ментальное здоровье  \\\n",
       "0        53.0   M     Asian        Shelton   WA                 True   \n",
       "1        47.0   M     White          Aloha   OR                False   \n",
       "2        23.0   M  Hispanic        Wichita   KS                False   \n",
       "3        32.0   M     White  San Francisco   CA                 True   \n",
       "4        39.0   M  Hispanic          Evans   CO                False   \n",
       "...       ...  ..       ...            ...  ...                  ...   \n",
       "4890     27.0   M     Black        Atlanta   GA                False   \n",
       "4891     23.0   M     Black    Crown Point   IN                False   \n",
       "4892     25.0   F     White        Sedalia   MO                False   \n",
       "4893     22.0   M     White    Kansas City   MO                False   \n",
       "4894     31.0   M     White       Lawrence   KS                False   \n",
       "\n",
       "     Уровень угрозы  Отступление  Нательная камера       Категория оружия  \n",
       "0            attack  Not fleeing             False                   Guns  \n",
       "1            attack  Not fleeing             False                   Guns  \n",
       "2             other  Not fleeing             False                Unarmed  \n",
       "3            attack  Not fleeing             False  Other unusual objects  \n",
       "4            attack  Not fleeing             False       Piercing objects  \n",
       "...             ...          ...               ...                    ...  \n",
       "4890         attack         Foot              True     Electrical devices  \n",
       "4891         attack          Car             False                   Guns  \n",
       "4892          other  Not fleeing             False                Unarmed  \n",
       "4893          other        Other             False                   Guns  \n",
       "4894         attack          Car             False                   Guns  \n",
       "\n",
       "[4895 rows x 15 columns]"
      ]
     },
     "execution_count": 8,
     "metadata": {},
     "output_type": "execute_result"
    }
   ],
   "source": [
    "#для удобства перемеинуем колонки. напишем названия на русском языке, размер популяции обозначим годами.\n",
    "shootings.rename(columns = {'id': \"Номер\", 'name': \"Имя\",'date': \"Дата\", 'manner_of_death': \"Способ задержания\", 'armed': \"Вооружение\", \n",
    "                            'age': \"Возраст\", 'gender': \"Пол\", 'race': \"Расса\",\n",
    "                            'city': \"Город\", 'state': \"Штат\", 'signs_of_mental_illness': \"Ментальное здоровье\", \n",
    "                            'threat_level': \"Уровень угрозы\", 'flee': \"Отступление\",\n",
    "                            'body_camera': \"Нательная камера\", 'arms_category': \"Категория оружия\"}, inplace = True)\n",
    "shootings"
   ]
  },
  {
   "cell_type": "code",
   "execution_count": 9,
   "id": "e03f4afc-2a72-4cea-8648-c1fc29cb6b8f",
   "metadata": {},
   "outputs": [
    {
     "data": {
      "text/plain": [
       "Номер                  0\n",
       "Имя                    0\n",
       "Дата                   0\n",
       "Способ задержания      0\n",
       "Вооружение             0\n",
       "Возраст                0\n",
       "Пол                    0\n",
       "Расса                  0\n",
       "Город                  0\n",
       "Штат                   0\n",
       "Ментальное здоровье    0\n",
       "Уровень угрозы         0\n",
       "Отступление            0\n",
       "Нательная камера       0\n",
       "Категория оружия       0\n",
       "dtype: int64"
      ]
     },
     "execution_count": 9,
     "metadata": {},
     "output_type": "execute_result"
    }
   ],
   "source": [
    "#проверим пропущенные значения в массиве данных\n",
    "shootings.isnull().sum()"
   ]
  },
  {
   "cell_type": "code",
   "execution_count": 10,
   "id": "46c8e90a-1b6c-4d04-b495-d5755927dfc1",
   "metadata": {},
   "outputs": [
    {
     "data": {
      "text/html": [
       "<div>\n",
       "<style scoped>\n",
       "    .dataframe tbody tr th:only-of-type {\n",
       "        vertical-align: middle;\n",
       "    }\n",
       "\n",
       "    .dataframe tbody tr th {\n",
       "        vertical-align: top;\n",
       "    }\n",
       "\n",
       "    .dataframe thead th {\n",
       "        text-align: right;\n",
       "    }\n",
       "</style>\n",
       "<table border=\"1\" class=\"dataframe\">\n",
       "  <thead>\n",
       "    <tr style=\"text-align: right;\">\n",
       "      <th></th>\n",
       "      <th>Номер</th>\n",
       "      <th>Возраст</th>\n",
       "    </tr>\n",
       "  </thead>\n",
       "  <tbody>\n",
       "    <tr>\n",
       "      <th>count</th>\n",
       "      <td>4895.000000</td>\n",
       "      <td>4895.000000</td>\n",
       "    </tr>\n",
       "    <tr>\n",
       "      <th>mean</th>\n",
       "      <td>2902.148519</td>\n",
       "      <td>36.549750</td>\n",
       "    </tr>\n",
       "    <tr>\n",
       "      <th>std</th>\n",
       "      <td>1683.467910</td>\n",
       "      <td>12.694348</td>\n",
       "    </tr>\n",
       "    <tr>\n",
       "      <th>min</th>\n",
       "      <td>3.000000</td>\n",
       "      <td>6.000000</td>\n",
       "    </tr>\n",
       "    <tr>\n",
       "      <th>25%</th>\n",
       "      <td>1441.500000</td>\n",
       "      <td>27.000000</td>\n",
       "    </tr>\n",
       "    <tr>\n",
       "      <th>50%</th>\n",
       "      <td>2847.000000</td>\n",
       "      <td>35.000000</td>\n",
       "    </tr>\n",
       "    <tr>\n",
       "      <th>75%</th>\n",
       "      <td>4352.500000</td>\n",
       "      <td>45.000000</td>\n",
       "    </tr>\n",
       "    <tr>\n",
       "      <th>max</th>\n",
       "      <td>5925.000000</td>\n",
       "      <td>91.000000</td>\n",
       "    </tr>\n",
       "  </tbody>\n",
       "</table>\n",
       "</div>"
      ],
      "text/plain": [
       "             Номер      Возраст\n",
       "count  4895.000000  4895.000000\n",
       "mean   2902.148519    36.549750\n",
       "std    1683.467910    12.694348\n",
       "min       3.000000     6.000000\n",
       "25%    1441.500000    27.000000\n",
       "50%    2847.000000    35.000000\n",
       "75%    4352.500000    45.000000\n",
       "max    5925.000000    91.000000"
      ]
     },
     "execution_count": 10,
     "metadata": {},
     "output_type": "execute_result"
    }
   ],
   "source": [
    "#посмотрим описательную статистику массива данных\n",
    "shootings.describe()"
   ]
  },
  {
   "cell_type": "code",
   "execution_count": 11,
   "id": "dc580dff-e8f8-4804-91c3-8f630a8fa7fa",
   "metadata": {},
   "outputs": [],
   "source": [
    "#проведем анализ столбца возраст\n",
    "Возраст = shootings['Возраст'].value_counts().sort_values()"
   ]
  },
  {
   "cell_type": "code",
   "execution_count": 12,
   "id": "45778403-dae0-4529-9860-7a3e330beb24",
   "metadata": {},
   "outputs": [
    {
     "data": {
      "text/plain": [
       "array([53.       , 47.       , 23.       , 32.       , 39.       ,\n",
       "       18.       , 22.       , 35.       , 34.       , 25.       ,\n",
       "       31.       , 41.       , 30.       , 37.       , 28.       ,\n",
       "       42.       , 36.       , 49.       , 71.       , 33.       ,\n",
       "       29.       , 43.       , 24.       , 75.       , 68.       ,\n",
       "       27.       , 48.       , 21.       , 67.       , 19.       ,\n",
       "       54.       , 17.       , 56.       , 61.       , 45.       ,\n",
       "       26.       , 40.       , 59.       , 38.       , 51.       ,\n",
       "       74.       , 57.       , 46.       , 16.       , 50.       ,\n",
       "       20.       , 77.       , 37.1179309, 58.       , 64.       ,\n",
       "       52.       , 63.       , 44.       , 60.       , 66.       ,\n",
       "       83.       , 72.       , 76.       , 62.       , 55.       ,\n",
       "       69.       , 15.       , 65.       ,  6.       , 12.       ,\n",
       "       70.       , 80.       , 14.       , 82.       , 13.       ,\n",
       "       73.       , 91.       , 79.       , 78.       , 84.       ,\n",
       "       81.       ])"
      ]
     },
     "execution_count": 12,
     "metadata": {},
     "output_type": "execute_result"
    }
   ],
   "source": [
    "shootings.Возраст.unique()"
   ]
  },
  {
   "cell_type": "code",
   "execution_count": 13,
   "id": "636e630d-c830-44db-a79c-f7f1646a837f",
   "metadata": {},
   "outputs": [
    {
     "data": {
      "text/plain": [
       "<seaborn.axisgrid.FacetGrid at 0x7fa785cc8f70>"
      ]
     },
     "execution_count": 13,
     "metadata": {},
     "output_type": "execute_result"
    },
    {
     "data": {
      "image/png": "[encoded data removed]",
      "text/plain": [
       "<Figure size 360x360 with 1 Axes>"
      ]
     },
     "metadata": {
      "needs_background": "light"
     },
     "output_type": "display_data"
    }
   ],
   "source": [
    "#построим категориальный график, используя визуализацию библиотеки plot\n",
    "sns.catplot(x = 'Возраст', data = shootings, kind = 'count')"
   ]
  },
  {
   "cell_type": "code",
   "execution_count": 14,
   "id": "48ea666d-e316-46cd-9d3a-d2b26ac3f248",
   "metadata": {},
   "outputs": [
    {
     "data": {
      "image/png": "[encoded data removed]",
      "text/plain": [
       "<Figure size 1080x576 with 1 Axes>"
      ]
     },
     "metadata": {
      "needs_background": "light"
     },
     "output_type": "display_data"
    }
   ],
   "source": [
    "#Проверим взаимосвязи как влияют разные показатели на возраст стрелявших\n",
    "plot = plt.figure(figsize=(15,8))\n",
    "sns.barplot(x = 'Возраст', y = 'Ментальное здоровье', data = shootings)\n",
    "plt.show()"
   ]
  },
  {
   "cell_type": "code",
   "execution_count": 15,
   "id": "febc3e14-f9a8-404c-9dbb-c3812c2a82e3",
   "metadata": {},
   "outputs": [
    {
     "data": {
      "text/plain": [
       "CA    701\n",
       "TX    426\n",
       "FL    324\n",
       "AZ    222\n",
       "CO    168\n",
       "GA    161\n",
       "OK    151\n",
       "NC    148\n",
       "OH    146\n",
       "WA    126\n",
       "Name: Штат, dtype: int64"
      ]
     },
     "execution_count": 15,
     "metadata": {},
     "output_type": "execute_result"
    }
   ],
   "source": [
    "#посмотрим, в каком штате полицейские чаще всего используют оружие\n",
    "shootings ['Штат'].value_counts().head(10)"
   ]
  },
  {
   "cell_type": "code",
   "execution_count": 16,
   "id": "60596215-0c6b-4bf8-aae4-fa4fdb0c67aa",
   "metadata": {},
   "outputs": [
    {
     "data": {
      "text/plain": [
       "<bound method Series.info of CA    701\n",
       "TX    426\n",
       "FL    324\n",
       "AZ    222\n",
       "CO    168\n",
       "GA    161\n",
       "OK    151\n",
       "NC    148\n",
       "OH    146\n",
       "WA    126\n",
       "TN    125\n",
       "MO    124\n",
       "LA    102\n",
       "IL     99\n",
       "PA     95\n",
       "AL     95\n",
       "NM     93\n",
       "VA     92\n",
       "IN     91\n",
       "NY     90\n",
       "WI     88\n",
       "KY     87\n",
       "NV     85\n",
       "SC     80\n",
       "MD     77\n",
       "OR     76\n",
       "AR     73\n",
       "MI     71\n",
       "MS     61\n",
       "NJ     60\n",
       "MN     60\n",
       "UT     58\n",
       "KS     49\n",
       "WV     46\n",
       "ID     37\n",
       "AK     36\n",
       "MA     33\n",
       "IA     31\n",
       "MT     29\n",
       "HI     29\n",
       "NE     24\n",
       "ME     21\n",
       "CT     20\n",
       "SD     14\n",
       "DC     13\n",
       "WY     13\n",
       "NH     12\n",
       "ND     11\n",
       "DE     10\n",
       "VT      8\n",
       "RI      4\n",
       "Name: Штат, dtype: int64>"
      ]
     },
     "execution_count": 16,
     "metadata": {},
     "output_type": "execute_result"
    }
   ],
   "source": [
    "# для визуализации создадим отдельную переменную\n",
    "Штат = shootings ['Штат'].value_counts()\n",
    "Штат.info"
   ]
  },
  {
   "cell_type": "code",
   "execution_count": 17,
   "id": "18e2fb98-b147-4867-9cd8-d12f202157ca",
   "metadata": {},
   "outputs": [
    {
     "data": {
      "image/png": "[encoded data removed]",
      "text/plain": [
       "<Figure size 1080x576 with 1 Axes>"
      ]
     },
     "metadata": {
      "needs_background": "light"
     },
     "output_type": "display_data"
    }
   ],
   "source": [
    "# сделаем визуализацию данных\n",
    "plt.figure(figsize=(15,8))\n",
    "sns.countplot(x='Штат', \n",
    "              data=shootings,\n",
    "              order = shootings['Штат'].value_counts().index)\n",
    "plt.title('Штат с наибольшим количеством выстрелов со стороны полицейских')\n",
    "plt.xlabel('Штат')\n",
    "plt.ylabel('Число стрелявших полицейских')\n",
    "plt.show()"
   ]
  },
  {
   "cell_type": "markdown",
   "id": "c7e1114d-904d-47ac-ba5f-dc9e586900d7",
   "metadata": {},
   "source": [
    "# Корреляция"
   ]
  },
  {
   "cell_type": "code",
   "execution_count": 18,
   "id": "44ad9744-f08b-49b3-98da-952212fa41eb",
   "metadata": {},
   "outputs": [
    {
     "data": {
      "text/plain": [
       "0.0968647916348386"
      ]
     },
     "execution_count": 18,
     "metadata": {},
     "output_type": "execute_result"
    }
   ],
   "source": [
    "# далее рассмотрим, есть ли корреляция между возрастом и ментальным здоровьем полицейских\n",
    "shootings ['Возраст'].corr(shootings['Ментальное здоровье'])"
   ]
  },
  {
   "cell_type": "code",
   "execution_count": 19,
   "id": "4017357e-2b89-4243-a3dd-e82aac852661",
   "metadata": {},
   "outputs": [],
   "source": [
    "#тепловая карта для понимания корреляции между показателями\n",
    "corr = shootings.corr()\n",
    "X = [i for i in shootings.columns]"
   ]
  },
  {
   "cell_type": "code",
   "execution_count": 20,
   "id": "2dac5c0c-3895-4e48-8800-e66357b11430",
   "metadata": {},
   "outputs": [
    {
     "data": {
      "text/plain": [
       "Text(0.5, 1.0, 'Тепловая матрица корреляций')"
      ]
     },
     "execution_count": 20,
     "metadata": {},
     "output_type": "execute_result"
    },
    {
     "data": {
      "image/png": "[encoded data removed]",
      "text/plain": [
       "<Figure size 720x504 with 2 Axes>"
      ]
     },
     "metadata": {
      "needs_background": "light"
     },
     "output_type": "display_data"
    }
   ],
   "source": [
    "# Проверим есть ли мультиколиниарность в данных (т.е. переменные между собой не корелировали)\n",
    "corrmat = shootings.corr()\n",
    "plt.figure(figsize = (10, 7))\n",
    "p =sns.heatmap(corrmat, annot=True, linecolor='white', linewidth=2, cmap=\"Set2\")\n",
    "plt.title('Тепловая матрица корреляций')"
   ]
  },
  {
   "cell_type": "markdown",
   "id": "0ab0e272-2dd9-429c-94a8-60b28f47eb54",
   "metadata": {},
   "source": [
    "# Преобразование данных"
   ]
  },
  {
   "cell_type": "code",
   "execution_count": 21,
   "id": "e473fad1-8b8c-4bb4-a841-90ca88943ff0",
   "metadata": {},
   "outputs": [],
   "source": [
    "#преобразуем возраст полицейских в старые и молодые и проведем бинарную классификацию\n",
    "my_bins = (27, 40, 91)\n",
    "groups = ['Старый', 'Молодой']\n",
    "shootings['Возраст'] = pd.cut(shootings['Возраст'], bins = my_bins, labels = groups)"
   ]
  },
  {
   "cell_type": "code",
   "execution_count": 22,
   "id": "e97f6829-a14e-42fc-9fb0-26f9921f531e",
   "metadata": {},
   "outputs": [
    {
     "data": {
      "image/png": "[encoded data removed]",
      "text/plain": [
       "<Figure size 432x288 with 1 Axes>"
      ]
     },
     "metadata": {},
     "output_type": "display_data"
    }
   ],
   "source": [
    "#произведем визуализацию данных\n",
    "from sklearn.preprocessing import LabelEncoder\n",
    "label_quality = LabelEncoder()\n",
    "shootings['Возраст']= label_quality.fit_transform(shootings['Возраст'])\n",
    "shootings['Возраст'].value_counts().plot(kind = 'pie',autopct ='%.2f', title = \"Возраст\")\n",
    "plt.show()"
   ]
  },
  {
   "cell_type": "markdown",
   "id": "c3102cff-ddf8-46c1-b6eb-44e45a4305ab",
   "metadata": {},
   "source": [
    "# Продвинутая визуализация"
   ]
  },
  {
   "cell_type": "code",
   "execution_count": 23,
   "id": "dfa116ed-8caf-4a12-896f-63b91a8c29e7",
   "metadata": {},
   "outputs": [
    {
     "data": {
      "image/png": "[encoded data removed]",
      "text/plain": [
       "<Figure size 720x360 with 1 Axes>"
      ]
     },
     "metadata": {
      "needs_background": "light"
     },
     "output_type": "display_data"
    }
   ],
   "source": [
    "# каким оружием пользуются чаще всего\n",
    "plt.figure(figsize=(10,5))\n",
    "sns.set_theme(style=\"darkgrid\")\n",
    "plt.xticks(rotation=90)\n",
    "plt.title(\"Каким оружием пользуются чаще всего\")\n",
    "ax = sns.countplot(x=\"Категория оружия\", data=shootings)"
   ]
  },
  {
   "cell_type": "code",
   "execution_count": 24,
   "id": "5b5d853c-df38-446a-82f9-7d96a9852aab",
   "metadata": {},
   "outputs": [
    {
     "data": {
      "application/vnd.plotly.v1+json": {
       "config": {
        "linkText": "Export to plot.ly",
        "plotlyServerURL": "https://plot.ly",
        "showLink": false
       },
       "data": [
        {
         "hoverinfo": "label+value",
         "labels": [
          "Hand tools",
          "Explosives",
          "Electrical devices",
          "Piercing objects",
          "Multiple",
          "Vehicles",
          "Blunt instruments",
          "Other unusual objects",
          "Unarmed",
          "Unknown",
          "Sharp objects",
          "Guns"
         ],
         "type": "pie",
         "values": [
          1,
          4,
          24,
          29,
          54,
          121,
          122,
          192,
          348,
          418,
          818,
          2764
         ]
        }
       ],
       "layout": {
        "autosize": true,
        "template": {
         "data": {
          "bar": [
           {
            "error_x": {
             "color": "#2a3f5f"
            },
            "error_y": {
             "color": "#2a3f5f"
            },
            "marker": {
             "line": {
              "color": "#E5ECF6",
              "width": 0.5
             },
             "pattern": {
              "fillmode": "overlay",
              "size": 10,
              "solidity": 0.2
             }
            },
            "type": "bar"
           }
          ],
          "barpolar": [
           {
            "marker": {
             "line": {
              "color": "#E5ECF6",
              "width": 0.5
             },
             "pattern": {
              "fillmode": "overlay",
              "size": 10,
              "solidity": 0.2
             }
            },
            "type": "barpolar"
           }
          ],
          "carpet": [
           {
            "aaxis": {
             "endlinecolor": "#2a3f5f",
             "gridcolor": "white",
             "linecolor": "white",
             "minorgridcolor": "white",
             "startlinecolor": "#2a3f5f"
            },
            "baxis": {
             "endlinecolor": "#2a3f5f",
             "gridcolor": "white",
             "linecolor": "white",
             "minorgridcolor": "white",
             "startlinecolor": "#2a3f5f"
            },
            "type": "carpet"
           }
          ],
          "choropleth": [
           {
            "colorbar": {
             "outlinewidth": 0,
             "ticks": ""
            },
            "type": "choropleth"
           }
          ],
          "contour": [
           {
            "colorbar": {
             "outlinewidth": 0,
             "ticks": ""
            },
            "colorscale": [
             [
              0,
              "#0d0887"
             ],
             [
              0.1111111111111111,
              "#46039f"
             ],
             [
              0.2222222222222222,
              "#7201a8"
             ],
             [
              0.3333333333333333,
              "#9c179e"
             ],
             [
              0.4444444444444444,
              "#bd3786"
             ],
             [
              0.5555555555555556,
              "#d8576b"
             ],
             [
              0.6666666666666666,
              "#ed7953"
             ],
             [
              0.7777777777777778,
              "#fb9f3a"
             ],
             [
              0.8888888888888888,
              "#fdca26"
             ],
             [
              1,
              "#f0f921"
             ]
            ],
            "type": "contour"
           }
          ],
          "contourcarpet": [
           {
            "colorbar": {
             "outlinewidth": 0,
             "ticks": ""
            },
            "type": "contourcarpet"
           }
          ],
          "heatmap": [
           {
            "colorbar": {
             "outlinewidth": 0,
             "ticks": ""
            },
            "colorscale": [
             [
              0,
              "#0d0887"
             ],
             [
              0.1111111111111111,
              "#46039f"
             ],
             [
              0.2222222222222222,
              "#7201a8"
             ],
             [
              0.3333333333333333,
              "#9c179e"
             ],
             [
              0.4444444444444444,
              "#bd3786"
             ],
             [
              0.5555555555555556,
              "#d8576b"
             ],
             [
              0.6666666666666666,
              "#ed7953"
             ],
             [
              0.7777777777777778,
              "#fb9f3a"
             ],
             [
              0.8888888888888888,
              "#fdca26"
             ],
             [
              1,
              "#f0f921"
             ]
            ],
            "type": "heatmap"
           }
          ],
          "heatmapgl": [
           {
            "colorbar": {
             "outlinewidth": 0,
             "ticks": ""
            },
            "colorscale": [
             [
              0,
              "#0d0887"
             ],
             [
              0.1111111111111111,
              "#46039f"
             ],
             [
              0.2222222222222222,
              "#7201a8"
             ],
             [
              0.3333333333333333,
              "#9c179e"
             ],
             [
              0.4444444444444444,
              "#bd3786"
             ],
             [
              0.5555555555555556,
              "#d8576b"
             ],
             [
              0.6666666666666666,
              "#ed7953"
             ],
             [
              0.7777777777777778,
              "#fb9f3a"
             ],
             [
              0.8888888888888888,
              "#fdca26"
             ],
             [
              1,
              "#f0f921"
             ]
            ],
            "type": "heatmapgl"
           }
          ],
          "histogram": [
           {
            "marker": {
             "pattern": {
              "fillmode": "overlay",
              "size": 10,
              "solidity": 0.2
             }
            },
            "type": "histogram"
           }
          ],
          "histogram2d": [
           {
            "colorbar": {
             "outlinewidth": 0,
             "ticks": ""
            },
            "colorscale": [
             [
              0,
              "#0d0887"
             ],
             [
              0.1111111111111111,
              "#46039f"
             ],
             [
              0.2222222222222222,
              "#7201a8"
             ],
             [
              0.3333333333333333,
              "#9c179e"
             ],
             [
              0.4444444444444444,
              "#bd3786"
             ],
             [
              0.5555555555555556,
              "#d8576b"
             ],
             [
              0.6666666666666666,
              "#ed7953"
             ],
             [
              0.7777777777777778,
              "#fb9f3a"
             ],
             [
              0.8888888888888888,
              "#fdca26"
             ],
             [
              1,
              "#f0f921"
             ]
            ],
            "type": "histogram2d"
           }
          ],
          "histogram2dcontour": [
           {
            "colorbar": {
             "outlinewidth": 0,
             "ticks": ""
            },
            "colorscale": [
             [
              0,
              "#0d0887"
             ],
             [
              0.1111111111111111,
              "#46039f"
             ],
             [
              0.2222222222222222,
              "#7201a8"
             ],
             [
              0.3333333333333333,
              "#9c179e"
             ],
             [
              0.4444444444444444,
              "#bd3786"
             ],
             [
              0.5555555555555556,
              "#d8576b"
             ],
             [
              0.6666666666666666,
              "#ed7953"
             ],
             [
              0.7777777777777778,
              "#fb9f3a"
             ],
             [
              0.8888888888888888,
              "#fdca26"
             ],
             [
              1,
              "#f0f921"
             ]
            ],
            "type": "histogram2dcontour"
           }
          ],
          "mesh3d": [
           {
            "colorbar": {
             "outlinewidth": 0,
             "ticks": ""
            },
            "type": "mesh3d"
           }
          ],
          "parcoords": [
           {
            "line": {
             "colorbar": {
              "outlinewidth": 0,
              "ticks": ""
             }
            },
            "type": "parcoords"
           }
          ],
          "pie": [
           {
            "automargin": true,
            "type": "pie"
           }
          ],
          "scatter": [
           {
            "marker": {
             "colorbar": {
              "outlinewidth": 0,
              "ticks": ""
             }
            },
            "type": "scatter"
           }
          ],
          "scatter3d": [
           {
            "line": {
             "colorbar": {
              "outlinewidth": 0,
              "ticks": ""
             }
            },
            "marker": {
             "colorbar": {
              "outlinewidth": 0,
              "ticks": ""
             }
            },
            "type": "scatter3d"
           }
          ],
          "scattercarpet": [
           {
            "marker": {
             "colorbar": {
              "outlinewidth": 0,
              "ticks": ""
             }
            },
            "type": "scattercarpet"
           }
          ],
          "scattergeo": [
           {
            "marker": {
             "colorbar": {
              "outlinewidth": 0,
              "ticks": ""
             }
            },
            "type": "scattergeo"
           }
          ],
          "scattergl": [
           {
            "marker": {
             "colorbar": {
              "outlinewidth": 0,
              "ticks": ""
             }
            },
            "type": "scattergl"
           }
          ],
          "scattermapbox": [
           {
            "marker": {
             "colorbar": {
              "outlinewidth": 0,
              "ticks": ""
             }
            },
            "type": "scattermapbox"
           }
          ],
          "scatterpolar": [
           {
            "marker": {
             "colorbar": {
              "outlinewidth": 0,
              "ticks": ""
             }
            },
            "type": "scatterpolar"
           }
          ],
          "scatterpolargl": [
           {
            "marker": {
             "colorbar": {
              "outlinewidth": 0,
              "ticks": ""
             }
            },
            "type": "scatterpolargl"
           }
          ],
          "scatterternary": [
           {
            "marker": {
             "colorbar": {
              "outlinewidth": 0,
              "ticks": ""
             }
            },
            "type": "scatterternary"
           }
          ],
          "surface": [
           {
            "colorbar": {
             "outlinewidth": 0,
             "ticks": ""
            },
            "colorscale": [
             [
              0,
              "#0d0887"
             ],
             [
              0.1111111111111111,
              "#46039f"
             ],
             [
              0.2222222222222222,
              "#7201a8"
             ],
             [
              0.3333333333333333,
              "#9c179e"
             ],
             [
              0.4444444444444444,
              "#bd3786"
             ],
             [
              0.5555555555555556,
              "#d8576b"
             ],
             [
              0.6666666666666666,
              "#ed7953"
             ],
             [
              0.7777777777777778,
              "#fb9f3a"
             ],
             [
              0.8888888888888888,
              "#fdca26"
             ],
             [
              1,
              "#f0f921"
             ]
            ],
            "type": "surface"
           }
          ],
          "table": [
           {
            "cells": {
             "fill": {
              "color": "#EBF0F8"
             },
             "line": {
              "color": "white"
             }
            },
            "header": {
             "fill": {
              "color": "#C8D4E3"
             },
             "line": {
              "color": "white"
             }
            },
            "type": "table"
           }
          ]
         },
         "layout": {
          "annotationdefaults": {
           "arrowcolor": "#2a3f5f",
           "arrowhead": 0,
           "arrowwidth": 1
          },
          "autotypenumbers": "strict",
          "coloraxis": {
           "colorbar": {
            "outlinewidth": 0,
            "ticks": ""
           }
          },
          "colorscale": {
           "diverging": [
            [
             0,
             "#8e0152"
            ],
            [
             0.1,
             "#c51b7d"
            ],
            [
             0.2,
             "#de77ae"
            ],
            [
             0.3,
             "#f1b6da"
            ],
            [
             0.4,
             "#fde0ef"
            ],
            [
             0.5,
             "#f7f7f7"
            ],
            [
             0.6,
             "#e6f5d0"
            ],
            [
             0.7,
             "#b8e186"
            ],
            [
             0.8,
             "#7fbc41"
            ],
            [
             0.9,
             "#4d9221"
            ],
            [
             1,
             "#276419"
            ]
           ],
           "sequential": [
            [
             0,
             "#0d0887"
            ],
            [
             0.1111111111111111,
             "#46039f"
            ],
            [
             0.2222222222222222,
             "#7201a8"
            ],
            [
             0.3333333333333333,
             "#9c179e"
            ],
            [
             0.4444444444444444,
             "#bd3786"
            ],
            [
             0.5555555555555556,
             "#d8576b"
            ],
            [
             0.6666666666666666,
             "#ed7953"
            ],
            [
             0.7777777777777778,
             "#fb9f3a"
            ],
            [
             0.8888888888888888,
             "#fdca26"
            ],
            [
             1,
             "#f0f921"
            ]
           ],
           "sequentialminus": [
            [
             0,
             "#0d0887"
            ],
            [
             0.1111111111111111,
             "#46039f"
            ],
            [
             0.2222222222222222,
             "#7201a8"
            ],
            [
             0.3333333333333333,
             "#9c179e"
            ],
            [
             0.4444444444444444,
             "#bd3786"
            ],
            [
             0.5555555555555556,
             "#d8576b"
            ],
            [
             0.6666666666666666,
             "#ed7953"
            ],
            [
             0.7777777777777778,
             "#fb9f3a"
            ],
            [
             0.8888888888888888,
             "#fdca26"
            ],
            [
             1,
             "#f0f921"
            ]
           ]
          },
          "colorway": [
           "#636efa",
           "#EF553B",
           "#00cc96",
           "#ab63fa",
           "#FFA15A",
           "#19d3f3",
           "#FF6692",
           "#B6E880",
           "#FF97FF",
           "#FECB52"
          ],
          "font": {
           "color": "#2a3f5f"
          },
          "geo": {
           "bgcolor": "white",
           "lakecolor": "white",
           "landcolor": "#E5ECF6",
           "showlakes": true,
           "showland": true,
           "subunitcolor": "white"
          },
          "hoverlabel": {
           "align": "left"
          },
          "hovermode": "closest",
          "mapbox": {
           "style": "light"
          },
          "paper_bgcolor": "white",
          "plot_bgcolor": "#E5ECF6",
          "polar": {
           "angularaxis": {
            "gridcolor": "white",
            "linecolor": "white",
            "ticks": ""
           },
           "bgcolor": "#E5ECF6",
           "radialaxis": {
            "gridcolor": "white",
            "linecolor": "white",
            "ticks": ""
           }
          },
          "scene": {
           "xaxis": {
            "backgroundcolor": "#E5ECF6",
            "gridcolor": "white",
            "gridwidth": 2,
            "linecolor": "white",
            "showbackground": true,
            "ticks": "",
            "zerolinecolor": "white"
           },
           "yaxis": {
            "backgroundcolor": "#E5ECF6",
            "gridcolor": "white",
            "gridwidth": 2,
            "linecolor": "white",
            "showbackground": true,
            "ticks": "",
            "zerolinecolor": "white"
           },
           "zaxis": {
            "backgroundcolor": "#E5ECF6",
            "gridcolor": "white",
            "gridwidth": 2,
            "linecolor": "white",
            "showbackground": true,
            "ticks": "",
            "zerolinecolor": "white"
           }
          },
          "shapedefaults": {
           "line": {
            "color": "#2a3f5f"
           }
          },
          "ternary": {
           "aaxis": {
            "gridcolor": "white",
            "linecolor": "white",
            "ticks": ""
           },
           "baxis": {
            "gridcolor": "white",
            "linecolor": "white",
            "ticks": ""
           },
           "bgcolor": "#E5ECF6",
           "caxis": {
            "gridcolor": "white",
            "linecolor": "white",
            "ticks": ""
           }
          },
          "title": {
           "x": 0.05
          },
          "xaxis": {
           "automargin": true,
           "gridcolor": "white",
           "linecolor": "white",
           "ticks": "",
           "title": {
            "standoff": 15
           },
           "zerolinecolor": "white",
           "zerolinewidth": 2
          },
          "yaxis": {
           "automargin": true,
           "gridcolor": "white",
           "linecolor": "white",
           "ticks": "",
           "title": {
            "standoff": 15
           },
           "zerolinecolor": "white",
           "zerolinewidth": 2
          }
         }
        }
       }
      },
      "image/png": "[encoded data removed]",
      "text/html": [
       "<div>                            <div id=\"df413697-6f6b-467f-b4aa-a8b2f4fb1b9d\" class=\"plotly-graph-div\" style=\"height:525px; width:100%;\"></div>            <script type=\"text/javascript\">                require([\"plotly\"], function(Plotly) {                    window.PLOTLYENV=window.PLOTLYENV || {};                                    if (document.getElementById(\"df413697-6f6b-467f-b4aa-a8b2f4fb1b9d\")) {                    Plotly.newPlot(                        \"df413697-6f6b-467f-b4aa-a8b2f4fb1b9d\",                        [{\"hoverinfo\":\"label+value\",\"labels\":[\"Hand tools\",\"Explosives\",\"Electrical devices\",\"Piercing objects\",\"Multiple\",\"Vehicles\",\"Blunt instruments\",\"Other unusual objects\",\"Unarmed\",\"Unknown\",\"Sharp objects\",\"Guns\"],\"values\":[1,4,24,29,54,121,122,192,348,418,818,2764],\"type\":\"pie\"}],                        {\"template\":{\"data\":{\"barpolar\":[{\"marker\":{\"line\":{\"color\":\"#E5ECF6\",\"width\":0.5},\"pattern\":{\"fillmode\":\"overlay\",\"size\":10,\"solidity\":0.2}},\"type\":\"barpolar\"}],\"bar\":[{\"error_x\":{\"color\":\"#2a3f5f\"},\"error_y\":{\"color\":\"#2a3f5f\"},\"marker\":{\"line\":{\"color\":\"#E5ECF6\",\"width\":0.5},\"pattern\":{\"fillmode\":\"overlay\",\"size\":10,\"solidity\":0.2}},\"type\":\"bar\"}],\"carpet\":[{\"aaxis\":{\"endlinecolor\":\"#2a3f5f\",\"gridcolor\":\"white\",\"linecolor\":\"white\",\"minorgridcolor\":\"white\",\"startlinecolor\":\"#2a3f5f\"},\"baxis\":{\"endlinecolor\":\"#2a3f5f\",\"gridcolor\":\"white\",\"linecolor\":\"white\",\"minorgridcolor\":\"white\",\"startlinecolor\":\"#2a3f5f\"},\"type\":\"carpet\"}],\"choropleth\":[{\"colorbar\":{\"outlinewidth\":0,\"ticks\":\"\"},\"type\":\"choropleth\"}],\"contourcarpet\":[{\"colorbar\":{\"outlinewidth\":0,\"ticks\":\"\"},\"type\":\"contourcarpet\"}],\"contour\":[{\"colorbar\":{\"outlinewidth\":0,\"ticks\":\"\"},\"colorscale\":[[0.0,\"#0d0887\"],[0.1111111111111111,\"#46039f\"],[0.2222222222222222,\"#7201a8\"],[0.3333333333333333,\"#9c179e\"],[0.4444444444444444,\"#bd3786\"],[0.5555555555555556,\"#d8576b\"],[0.6666666666666666,\"#ed7953\"],[0.7777777777777778,\"#fb9f3a\"],[0.8888888888888888,\"#fdca26\"],[1.0,\"#f0f921\"]],\"type\":\"contour\"}],\"heatmapgl\":[{\"colorbar\":{\"outlinewidth\":0,\"ticks\":\"\"},\"colorscale\":[[0.0,\"#0d0887\"],[0.1111111111111111,\"#46039f\"],[0.2222222222222222,\"#7201a8\"],[0.3333333333333333,\"#9c179e\"],[0.4444444444444444,\"#bd3786\"],[0.5555555555555556,\"#d8576b\"],[0.6666666666666666,\"#ed7953\"],[0.7777777777777778,\"#fb9f3a\"],[0.8888888888888888,\"#fdca26\"],[1.0,\"#f0f921\"]],\"type\":\"heatmapgl\"}],\"heatmap\":[{\"colorbar\":{\"outlinewidth\":0,\"ticks\":\"\"},\"colorscale\":[[0.0,\"#0d0887\"],[0.1111111111111111,\"#46039f\"],[0.2222222222222222,\"#7201a8\"],[0.3333333333333333,\"#9c179e\"],[0.4444444444444444,\"#bd3786\"],[0.5555555555555556,\"#d8576b\"],[0.6666666666666666,\"#ed7953\"],[0.7777777777777778,\"#fb9f3a\"],[0.8888888888888888,\"#fdca26\"],[1.0,\"#f0f921\"]],\"type\":\"heatmap\"}],\"histogram2dcontour\":[{\"colorbar\":{\"outlinewidth\":0,\"ticks\":\"\"},\"colorscale\":[[0.0,\"#0d0887\"],[0.1111111111111111,\"#46039f\"],[0.2222222222222222,\"#7201a8\"],[0.3333333333333333,\"#9c179e\"],[0.4444444444444444,\"#bd3786\"],[0.5555555555555556,\"#d8576b\"],[0.6666666666666666,\"#ed7953\"],[0.7777777777777778,\"#fb9f3a\"],[0.8888888888888888,\"#fdca26\"],[1.0,\"#f0f921\"]],\"type\":\"histogram2dcontour\"}],\"histogram2d\":[{\"colorbar\":{\"outlinewidth\":0,\"ticks\":\"\"},\"colorscale\":[[0.0,\"#0d0887\"],[0.1111111111111111,\"#46039f\"],[0.2222222222222222,\"#7201a8\"],[0.3333333333333333,\"#9c179e\"],[0.4444444444444444,\"#bd3786\"],[0.5555555555555556,\"#d8576b\"],[0.6666666666666666,\"#ed7953\"],[0.7777777777777778,\"#fb9f3a\"],[0.8888888888888888,\"#fdca26\"],[1.0,\"#f0f921\"]],\"type\":\"histogram2d\"}],\"histogram\":[{\"marker\":{\"pattern\":{\"fillmode\":\"overlay\",\"size\":10,\"solidity\":0.2}},\"type\":\"histogram\"}],\"mesh3d\":[{\"colorbar\":{\"outlinewidth\":0,\"ticks\":\"\"},\"type\":\"mesh3d\"}],\"parcoords\":[{\"line\":{\"colorbar\":{\"outlinewidth\":0,\"ticks\":\"\"}},\"type\":\"parcoords\"}],\"pie\":[{\"automargin\":true,\"type\":\"pie\"}],\"scatter3d\":[{\"line\":{\"colorbar\":{\"outlinewidth\":0,\"ticks\":\"\"}},\"marker\":{\"colorbar\":{\"outlinewidth\":0,\"ticks\":\"\"}},\"type\":\"scatter3d\"}],\"scattercarpet\":[{\"marker\":{\"colorbar\":{\"outlinewidth\":0,\"ticks\":\"\"}},\"type\":\"scattercarpet\"}],\"scattergeo\":[{\"marker\":{\"colorbar\":{\"outlinewidth\":0,\"ticks\":\"\"}},\"type\":\"scattergeo\"}],\"scattergl\":[{\"marker\":{\"colorbar\":{\"outlinewidth\":0,\"ticks\":\"\"}},\"type\":\"scattergl\"}],\"scattermapbox\":[{\"marker\":{\"colorbar\":{\"outlinewidth\":0,\"ticks\":\"\"}},\"type\":\"scattermapbox\"}],\"scatterpolargl\":[{\"marker\":{\"colorbar\":{\"outlinewidth\":0,\"ticks\":\"\"}},\"type\":\"scatterpolargl\"}],\"scatterpolar\":[{\"marker\":{\"colorbar\":{\"outlinewidth\":0,\"ticks\":\"\"}},\"type\":\"scatterpolar\"}],\"scatter\":[{\"marker\":{\"colorbar\":{\"outlinewidth\":0,\"ticks\":\"\"}},\"type\":\"scatter\"}],\"scatterternary\":[{\"marker\":{\"colorbar\":{\"outlinewidth\":0,\"ticks\":\"\"}},\"type\":\"scatterternary\"}],\"surface\":[{\"colorbar\":{\"outlinewidth\":0,\"ticks\":\"\"},\"colorscale\":[[0.0,\"#0d0887\"],[0.1111111111111111,\"#46039f\"],[0.2222222222222222,\"#7201a8\"],[0.3333333333333333,\"#9c179e\"],[0.4444444444444444,\"#bd3786\"],[0.5555555555555556,\"#d8576b\"],[0.6666666666666666,\"#ed7953\"],[0.7777777777777778,\"#fb9f3a\"],[0.8888888888888888,\"#fdca26\"],[1.0,\"#f0f921\"]],\"type\":\"surface\"}],\"table\":[{\"cells\":{\"fill\":{\"color\":\"#EBF0F8\"},\"line\":{\"color\":\"white\"}},\"header\":{\"fill\":{\"color\":\"#C8D4E3\"},\"line\":{\"color\":\"white\"}},\"type\":\"table\"}]},\"layout\":{\"annotationdefaults\":{\"arrowcolor\":\"#2a3f5f\",\"arrowhead\":0,\"arrowwidth\":1},\"autotypenumbers\":\"strict\",\"coloraxis\":{\"colorbar\":{\"outlinewidth\":0,\"ticks\":\"\"}},\"colorscale\":{\"diverging\":[[0,\"#8e0152\"],[0.1,\"#c51b7d\"],[0.2,\"#de77ae\"],[0.3,\"#f1b6da\"],[0.4,\"#fde0ef\"],[0.5,\"#f7f7f7\"],[0.6,\"#e6f5d0\"],[0.7,\"#b8e186\"],[0.8,\"#7fbc41\"],[0.9,\"#4d9221\"],[1,\"#276419\"]],\"sequential\":[[0.0,\"#0d0887\"],[0.1111111111111111,\"#46039f\"],[0.2222222222222222,\"#7201a8\"],[0.3333333333333333,\"#9c179e\"],[0.4444444444444444,\"#bd3786\"],[0.5555555555555556,\"#d8576b\"],[0.6666666666666666,\"#ed7953\"],[0.7777777777777778,\"#fb9f3a\"],[0.8888888888888888,\"#fdca26\"],[1.0,\"#f0f921\"]],\"sequentialminus\":[[0.0,\"#0d0887\"],[0.1111111111111111,\"#46039f\"],[0.2222222222222222,\"#7201a8\"],[0.3333333333333333,\"#9c179e\"],[0.4444444444444444,\"#bd3786\"],[0.5555555555555556,\"#d8576b\"],[0.6666666666666666,\"#ed7953\"],[0.7777777777777778,\"#fb9f3a\"],[0.8888888888888888,\"#fdca26\"],[1.0,\"#f0f921\"]]},\"colorway\":[\"#636efa\",\"#EF553B\",\"#00cc96\",\"#ab63fa\",\"#FFA15A\",\"#19d3f3\",\"#FF6692\",\"#B6E880\",\"#FF97FF\",\"#FECB52\"],\"font\":{\"color\":\"#2a3f5f\"},\"geo\":{\"bgcolor\":\"white\",\"lakecolor\":\"white\",\"landcolor\":\"#E5ECF6\",\"showlakes\":true,\"showland\":true,\"subunitcolor\":\"white\"},\"hoverlabel\":{\"align\":\"left\"},\"hovermode\":\"closest\",\"mapbox\":{\"style\":\"light\"},\"paper_bgcolor\":\"white\",\"plot_bgcolor\":\"#E5ECF6\",\"polar\":{\"angularaxis\":{\"gridcolor\":\"white\",\"linecolor\":\"white\",\"ticks\":\"\"},\"bgcolor\":\"#E5ECF6\",\"radialaxis\":{\"gridcolor\":\"white\",\"linecolor\":\"white\",\"ticks\":\"\"}},\"scene\":{\"xaxis\":{\"backgroundcolor\":\"#E5ECF6\",\"gridcolor\":\"white\",\"gridwidth\":2,\"linecolor\":\"white\",\"showbackground\":true,\"ticks\":\"\",\"zerolinecolor\":\"white\"},\"yaxis\":{\"backgroundcolor\":\"#E5ECF6\",\"gridcolor\":\"white\",\"gridwidth\":2,\"linecolor\":\"white\",\"showbackground\":true,\"ticks\":\"\",\"zerolinecolor\":\"white\"},\"zaxis\":{\"backgroundcolor\":\"#E5ECF6\",\"gridcolor\":\"white\",\"gridwidth\":2,\"linecolor\":\"white\",\"showbackground\":true,\"ticks\":\"\",\"zerolinecolor\":\"white\"}},\"shapedefaults\":{\"line\":{\"color\":\"#2a3f5f\"}},\"ternary\":{\"aaxis\":{\"gridcolor\":\"white\",\"linecolor\":\"white\",\"ticks\":\"\"},\"baxis\":{\"gridcolor\":\"white\",\"linecolor\":\"white\",\"ticks\":\"\"},\"bgcolor\":\"#E5ECF6\",\"caxis\":{\"gridcolor\":\"white\",\"linecolor\":\"white\",\"ticks\":\"\"}},\"title\":{\"x\":0.05},\"xaxis\":{\"automargin\":true,\"gridcolor\":\"white\",\"linecolor\":\"white\",\"ticks\":\"\",\"title\":{\"standoff\":15},\"zerolinecolor\":\"white\",\"zerolinewidth\":2},\"yaxis\":{\"automargin\":true,\"gridcolor\":\"white\",\"linecolor\":\"white\",\"ticks\":\"\",\"title\":{\"standoff\":15},\"zerolinecolor\":\"white\",\"zerolinewidth\":2}}}},                        {\"responsive\": true}                    ).then(function(){\n",
       "                            \n",
       "var gd = document.getElementById('df413697-6f6b-467f-b4aa-a8b2f4fb1b9d');\n",
       "var x = new MutationObserver(function (mutations, observer) {{\n",
       "        var display = window.getComputedStyle(gd).display;\n",
       "        if (!display || display === 'none') {{\n",
       "            console.log([gd, 'removed!']);\n",
       "            Plotly.purge(gd);\n",
       "            observer.disconnect();\n",
       "        }}\n",
       "}});\n",
       "\n",
       "// Listen for the removal of the full notebook cells\n",
       "var notebookContainer = gd.closest('#notebook-container');\n",
       "if (notebookContainer) {{\n",
       "    x.observe(notebookContainer, {childList: true});\n",
       "}}\n",
       "\n",
       "// Listen for the clearing of the current output cell\n",
       "var outputEl = gd.closest('.output');\n",
       "if (outputEl) {{\n",
       "    x.observe(outputEl, {childList: true});\n",
       "}}\n",
       "\n",
       "                        })                };                });            </script>        </div>"
      ]
     },
     "metadata": {},
     "output_type": "display_data"
    }
   ],
   "source": [
    "apps_in_category = shootings['Категория оружия'].value_counts().sort_values(ascending=True)\n",
    "\n",
    "data = [go.Pie(labels = apps_in_category.index, values = apps_in_category.values, hoverinfo = 'label+value')]\n",
    "\n",
    "#Plotly — библиотека для визуализации данных (позволяет строить интерактивные визуализации)\n",
    "# Похожие на plotly - это bokeh и pygal \n",
    "plotly.offline.iplot(data, filename='active_category')"
   ]
  },
  {
   "cell_type": "markdown",
   "id": "52f69fd8-150e-4591-8684-98c3d1dc5c81",
   "metadata": {},
   "source": [
    "# Линейная регрессия"
   ]
  },
  {
   "cell_type": "markdown",
   "id": "b5b76b73-456e-4f30-a592-7c5ddd8d3829",
   "metadata": {},
   "source": [
    "С данным датасетом не получится реализовать модель, поэтому будет рассмотрена другая база данных"
   ]
  },
  {
   "cell_type": "code",
   "execution_count": 25,
   "id": "cf4e2fae-c629-46db-be08-a35f579fad98",
   "metadata": {},
   "outputs": [],
   "source": [
    "import numpy as np\n",
    "import pandas as pd\n",
    "оружие= pd.read_excel('оружие.xlsx')"
   ]
  },
  {
   "cell_type": "code",
   "execution_count": 26,
   "id": "da58ee78-bc29-4819-bc83-98fd9e687e9f",
   "metadata": {},
   "outputs": [
    {
     "data": {
      "text/html": [
       "<div>\n",
       "<style scoped>\n",
       "    .dataframe tbody tr th:only-of-type {\n",
       "        vertical-align: middle;\n",
       "    }\n",
       "\n",
       "    .dataframe tbody tr th {\n",
       "        vertical-align: top;\n",
       "    }\n",
       "\n",
       "    .dataframe thead th {\n",
       "        text-align: right;\n",
       "    }\n",
       "</style>\n",
       "<table border=\"1\" class=\"dataframe\">\n",
       "  <thead>\n",
       "    <tr style=\"text-align: right;\">\n",
       "      <th></th>\n",
       "      <th>Weapon Name</th>\n",
       "      <th>Weapon Type</th>\n",
       "      <th>Bullet Type</th>\n",
       "      <th>Damage</th>\n",
       "      <th>Magazine Capacity</th>\n",
       "      <th>Range</th>\n",
       "      <th>Bullet Speed</th>\n",
       "      <th>Rate of Fire</th>\n",
       "      <th>Shots to Kill (Chest)</th>\n",
       "      <th>Shots to Kill (Head)</th>\n",
       "      <th>Damage Per Second</th>\n",
       "    </tr>\n",
       "  </thead>\n",
       "  <tbody>\n",
       "    <tr>\n",
       "      <th>0</th>\n",
       "      <td>Groza</td>\n",
       "      <td>Assault Rifle</td>\n",
       "      <td>7.62</td>\n",
       "      <td>49</td>\n",
       "      <td>30</td>\n",
       "      <td>400.0</td>\n",
       "      <td>715.0</td>\n",
       "      <td>0.080</td>\n",
       "      <td>4</td>\n",
       "      <td>2</td>\n",
       "      <td>612.0</td>\n",
       "    </tr>\n",
       "    <tr>\n",
       "      <th>1</th>\n",
       "      <td>AKM</td>\n",
       "      <td>Assault Rifle</td>\n",
       "      <td>7.62</td>\n",
       "      <td>49</td>\n",
       "      <td>30</td>\n",
       "      <td>400.0</td>\n",
       "      <td>710.0</td>\n",
       "      <td>0.010</td>\n",
       "      <td>4</td>\n",
       "      <td>2</td>\n",
       "      <td>490.0</td>\n",
       "    </tr>\n",
       "    <tr>\n",
       "      <th>2</th>\n",
       "      <td>M762</td>\n",
       "      <td>Assault Rifle</td>\n",
       "      <td>7.62</td>\n",
       "      <td>47</td>\n",
       "      <td>30</td>\n",
       "      <td>400.0</td>\n",
       "      <td>715.0</td>\n",
       "      <td>0.086</td>\n",
       "      <td>4</td>\n",
       "      <td>2</td>\n",
       "      <td>547.0</td>\n",
       "    </tr>\n",
       "    <tr>\n",
       "      <th>3</th>\n",
       "      <td>MK47 Mutant</td>\n",
       "      <td>Assault Rifle</td>\n",
       "      <td>7.62</td>\n",
       "      <td>49</td>\n",
       "      <td>30</td>\n",
       "      <td>500.0</td>\n",
       "      <td>715.0</td>\n",
       "      <td>0.010</td>\n",
       "      <td>4</td>\n",
       "      <td>2</td>\n",
       "      <td>490.0</td>\n",
       "    </tr>\n",
       "    <tr>\n",
       "      <th>4</th>\n",
       "      <td>AUG A3</td>\n",
       "      <td>Assault Rifle</td>\n",
       "      <td>5.56</td>\n",
       "      <td>43</td>\n",
       "      <td>30</td>\n",
       "      <td>600.0</td>\n",
       "      <td>880.0</td>\n",
       "      <td>0.086</td>\n",
       "      <td>4</td>\n",
       "      <td>2</td>\n",
       "      <td>502.0</td>\n",
       "    </tr>\n",
       "    <tr>\n",
       "      <th>5</th>\n",
       "      <td>SCAR-L</td>\n",
       "      <td>Assault Rifle</td>\n",
       "      <td>5.56</td>\n",
       "      <td>43</td>\n",
       "      <td>30</td>\n",
       "      <td>600.0</td>\n",
       "      <td>880.0</td>\n",
       "      <td>0.096</td>\n",
       "      <td>4</td>\n",
       "      <td>2</td>\n",
       "      <td>448.0</td>\n",
       "    </tr>\n",
       "    <tr>\n",
       "      <th>6</th>\n",
       "      <td>M416</td>\n",
       "      <td>Assault Rifle</td>\n",
       "      <td>5.56</td>\n",
       "      <td>43</td>\n",
       "      <td>30</td>\n",
       "      <td>600.0</td>\n",
       "      <td>890.0</td>\n",
       "      <td>0.086</td>\n",
       "      <td>4</td>\n",
       "      <td>2</td>\n",
       "      <td>502.0</td>\n",
       "    </tr>\n",
       "    <tr>\n",
       "      <th>7</th>\n",
       "      <td>M16A4</td>\n",
       "      <td>Assault Rifle</td>\n",
       "      <td>5.56</td>\n",
       "      <td>43</td>\n",
       "      <td>30</td>\n",
       "      <td>600.0</td>\n",
       "      <td>900.0</td>\n",
       "      <td>0.010</td>\n",
       "      <td>4</td>\n",
       "      <td>2</td>\n",
       "      <td>430.0</td>\n",
       "    </tr>\n",
       "    <tr>\n",
       "      <th>8</th>\n",
       "      <td>G36C</td>\n",
       "      <td>Assault Rifle</td>\n",
       "      <td>5.56</td>\n",
       "      <td>43</td>\n",
       "      <td>30</td>\n",
       "      <td>600.0</td>\n",
       "      <td>880.0</td>\n",
       "      <td>0.086</td>\n",
       "      <td>4</td>\n",
       "      <td>2</td>\n",
       "      <td>502.0</td>\n",
       "    </tr>\n",
       "    <tr>\n",
       "      <th>9</th>\n",
       "      <td>OBZ</td>\n",
       "      <td>Assault Rifle</td>\n",
       "      <td>5.56</td>\n",
       "      <td>43</td>\n",
       "      <td>30</td>\n",
       "      <td>600.0</td>\n",
       "      <td>880.0</td>\n",
       "      <td>0.096</td>\n",
       "      <td>4</td>\n",
       "      <td>2</td>\n",
       "      <td>466.0</td>\n",
       "    </tr>\n",
       "  </tbody>\n",
       "</table>\n",
       "</div>"
      ],
      "text/plain": [
       "   Weapon Name    Weapon Type  Bullet Type  Damage  Magazine Capacity  Range  \\\n",
       "0        Groza  Assault Rifle         7.62      49                 30  400.0   \n",
       "1          AKM  Assault Rifle         7.62      49                 30  400.0   \n",
       "2         M762  Assault Rifle         7.62      47                 30  400.0   \n",
       "3  MK47 Mutant  Assault Rifle         7.62      49                 30  500.0   \n",
       "4       AUG A3  Assault Rifle         5.56      43                 30  600.0   \n",
       "5       SCAR-L  Assault Rifle         5.56      43                 30  600.0   \n",
       "6         M416  Assault Rifle         5.56      43                 30  600.0   \n",
       "7        M16A4  Assault Rifle         5.56      43                 30  600.0   \n",
       "8         G36C  Assault Rifle         5.56      43                 30  600.0   \n",
       "9          OBZ  Assault Rifle         5.56      43                 30  600.0   \n",
       "\n",
       "   Bullet Speed  Rate of Fire  Shots to Kill (Chest)  Shots to Kill (Head)  \\\n",
       "0         715.0         0.080                      4                     2   \n",
       "1         710.0         0.010                      4                     2   \n",
       "2         715.0         0.086                      4                     2   \n",
       "3         715.0         0.010                      4                     2   \n",
       "4         880.0         0.086                      4                     2   \n",
       "5         880.0         0.096                      4                     2   \n",
       "6         890.0         0.086                      4                     2   \n",
       "7         900.0         0.010                      4                     2   \n",
       "8         880.0         0.086                      4                     2   \n",
       "9         880.0         0.096                      4                     2   \n",
       "\n",
       "   Damage Per Second  \n",
       "0              612.0  \n",
       "1              490.0  \n",
       "2              547.0  \n",
       "3              490.0  \n",
       "4              502.0  \n",
       "5              448.0  \n",
       "6              502.0  \n",
       "7              430.0  \n",
       "8              502.0  \n",
       "9              466.0  "
      ]
     },
     "execution_count": 26,
     "metadata": {},
     "output_type": "execute_result"
    }
   ],
   "source": [
    "оружие.head(10)"
   ]
  },
  {
   "cell_type": "code",
   "execution_count": 27,
   "id": "52e5e54b-6ae2-4d90-b29d-702c8a2eea22",
   "metadata": {},
   "outputs": [
    {
     "data": {
      "text/plain": [
       "<seaborn.axisgrid.PairGrid at 0x7fa78dd67160>"
      ]
     },
     "execution_count": 27,
     "metadata": {},
     "output_type": "execute_result"
    },
    {
     "data": {
      "image/png": "[encoded data removed]",
      "text/plain": [
       "<Figure size 1620x1620 with 90 Axes>"
      ]
     },
     "metadata": {},
     "output_type": "display_data"
    }
   ],
   "source": [
    "sns.pairplot(оружие)\n",
    "#рассматриваем, есть ли между выбранными переменными корреляция"
   ]
  },
  {
   "cell_type": "code",
   "execution_count": 28,
   "id": "6ca3437a-5a36-4d7a-9759-de200011da63",
   "metadata": {},
   "outputs": [
    {
     "name": "stdout",
     "output_type": "stream",
     "text": [
      "LinregressResult(slope=nan, intercept=nan, rvalue=nan, pvalue=nan, stderr=nan, intercept_stderr=nan)\n"
     ]
    }
   ],
   "source": [
    "X = оружие['Damage']\n",
    "y = оружие['Bullet Speed']\n",
    "\n",
    "res = scipy.stats.linregress(X, y)\n",
    "print(res)\n",
    "#строим модель зависимости от урона и скорости пули"
   ]
  },
  {
   "cell_type": "code",
   "execution_count": 29,
   "id": "bda7d076-e65b-4677-902b-5fe9ec24cccd",
   "metadata": {},
   "outputs": [
    {
     "name": "stdout",
     "output_type": "stream",
     "text": [
      "nan\n"
     ]
    }
   ],
   "source": [
    "# невозможно применить модель\n",
    "r_sq = res.rvalue ** 2\n",
    "print(r_sq)"
   ]
  },
  {
   "cell_type": "markdown",
   "id": "a4269665-5da1-4571-afaa-6c69051eb2c9",
   "metadata": {},
   "source": [
    "# Обучение модели"
   ]
  },
  {
   "cell_type": "code",
   "execution_count": 31,
   "id": "bd899991-bf20-401d-8808-b0949518bb19",
   "metadata": {},
   "outputs": [],
   "source": [
    "numeric = ['Bullet Type', 'Damage', 'Magazine Capacity', 'Range', 'Bullet Speed', 'Rate of Fire', 'Damage Per Second']"
   ]
  },
  {
   "cell_type": "code",
   "execution_count": 32,
   "id": "1547730e-c751-45f4-8fee-fdfd09035106",
   "metadata": {},
   "outputs": [
    {
     "name": "stdout",
     "output_type": "stream",
     "text": [
      "<class 'pandas.core.frame.DataFrame'>\n",
      "RangeIndex: 43 entries, 0 to 42\n",
      "Data columns (total 11 columns):\n",
      " #   Column                 Non-Null Count  Dtype  \n",
      "---  ------                 --------------  -----  \n",
      " 0   Weapon Name            43 non-null     object \n",
      " 1   Weapon Type            43 non-null     object \n",
      " 2   Bullet Type            38 non-null     float64\n",
      " 3   Damage                 43 non-null     int64  \n",
      " 4   Magazine Capacity      43 non-null     int64  \n",
      " 5   Range                  38 non-null     float64\n",
      " 6   Bullet Speed           36 non-null     float64\n",
      " 7   Rate of Fire           43 non-null     float64\n",
      " 8   Shots to Kill (Chest)  43 non-null     int64  \n",
      " 9   Shots to Kill (Head)   43 non-null     int64  \n",
      " 10  Damage Per Second      43 non-null     float64\n",
      "dtypes: float64(5), int64(4), object(2)\n",
      "memory usage: 3.8+ KB\n"
     ]
    }
   ],
   "source": [
    "оружие.info()"
   ]
  },
  {
   "cell_type": "code",
   "execution_count": 33,
   "id": "a606130d-8d6c-4546-b0c6-5f3633dcfad3",
   "metadata": {},
   "outputs": [],
   "source": [
    "from sklearn.preprocessing import LabelEncoder\n",
    "encoder=LabelEncoder()"
   ]
  },
  {
   "cell_type": "code",
   "execution_count": 36,
   "id": "3a4b91f5-13bb-43a5-9193-455adfc7432b",
   "metadata": {},
   "outputs": [],
   "source": [
    "compaign_df = оружие[['Bullet Type', 'Damage', 'Magazine Capacity', 'Range', 'Bullet Speed', 'Rate of Fire', 'Damage Per Second']]\n",
    "target = оружие['Damage Per Second']\n",
    "features = оружие.drop(['Damage Per Second'], axis=1)"
   ]
  },
  {
   "cell_type": "code",
   "execution_count": 37,
   "id": "cac693a3-19bc-44ba-8029-0c3885cb46da",
   "metadata": {},
   "outputs": [],
   "source": [
    "features_train, features_test, target_train, target_test = train_test_split(\n",
    "    features, target, test_size=0.25, random_state=42)"
   ]
  },
  {
   "cell_type": "code",
   "execution_count": null,
   "id": "04a9caaa-84ff-4891-ba03-cdaf3d3d8296",
   "metadata": {},
   "outputs": [],
   "source": []
  }
 ],
 "metadata": {
  "kernelspec": {
   "display_name": "Python 3 (ipykernel)",
   "language": "python",
   "name": "python3"
  },
  "language_info": {
   "codemirror_mode": {
    "name": "ipython",
    "version": 3
   },
   "file_extension": ".py",
   "mimetype": "text/x-python",
   "name": "python",
   "nbconvert_exporter": "python",
   "pygments_lexer": "ipython3",
   "version": "3.9.12"
  }
 },
 "nbformat": 4,
 "nbformat_minor": 5
}
